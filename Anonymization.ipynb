{
 "cells": [
  {
   "cell_type": "markdown",
   "id": "235489c3",
   "metadata": {},
   "source": [
    "# Text Anonymization - Ulises Bértolo"
   ]
  },
  {
   "cell_type": "markdown",
   "id": "c1fdd2e5",
   "metadata": {},
   "source": [
    "Configuration for NLP engine."
   ]
  },
  {
   "cell_type": "code",
   "execution_count": 1,
   "id": "6acbb891",
   "metadata": {},
   "outputs": [],
   "source": [
    "configuration = {\n",
    "    \"nlp_engine_name\": \"spacy\",\n",
    "    \"models\": [{\"lang_code\": \"es\", \"model_name\": \"es_core_news_md\"}],\n",
    "}"
   ]
  },
  {
   "cell_type": "markdown",
   "id": "0c40a860",
   "metadata": {},
   "source": [
    "### Analyzer (NER)"
   ]
  },
  {
   "cell_type": "markdown",
   "id": "4eed8c33",
   "metadata": {},
   "source": [
    "Creating the presidio analyzer."
   ]
  },
  {
   "cell_type": "code",
   "execution_count": 2,
   "id": "54b628b3",
   "metadata": {},
   "outputs": [],
   "source": [
    "from presidio_analyzer import AnalyzerEngine\n",
    "from presidio_analyzer.nlp_engine import NlpEngineProvider\n",
    "\n",
    "# Create NLP engine based on configuration\n",
    "provider = NlpEngineProvider(nlp_configuration=configuration)\n",
    "nlp_engine = provider.create_engine()\n",
    "\n",
    "# the languages are needed to load country-specific recognizers \n",
    "# for finding phones, passport numbers, etc.\n",
    "analyzer = AnalyzerEngine(nlp_engine=nlp_engine,\n",
    "                          supported_languages=[\"es\"])"
   ]
  },
  {
   "cell_type": "code",
   "execution_count": 3,
   "id": "f86dd635",
   "metadata": {},
   "outputs": [
    {
     "name": "stdout",
     "output_type": "stream",
     "text": [
      "type: EMAIL_ADDRESS, start: 172, end: 189, score: 1.0\n",
      "type: IBAN_CODE, start: 207, end: 231, score: 1.0\n",
      "type: PERSON, start: 19, end: 25, score: 0.85\n",
      "type: LOCATION, start: 74, end: 96, score: 0.85\n",
      "type: LOCATION, start: 98, end: 105, score: 0.85\n",
      "type: DATE_TIME, start: 109, end: 119, score: 0.6\n",
      "type: URL, start: 179, end: 189, score: 0.5\n",
      "type: PHONE_NUMBER, start: 52, end: 64, score: 0.4\n"
     ]
    }
   ],
   "source": [
    "example_text = \"Hola. Mi nombre es Ulises, mi número de teléfono es +34654321098. Nací en Santiago de Compostela, Galicia el 23/11/2000. El día de ayer comí patatas. Puedes preguntarme en ulises@inetum.com. IBAN de ejemplo ES6830042979106774153973.\"\n",
    "\n",
    "results = analyzer.analyze(text=example_text,\n",
    "                           language='es')\n",
    "for res in results:\n",
    "    print(res)\n"
   ]
  },
  {
   "cell_type": "code",
   "execution_count": 4,
   "id": "ea0b2479",
   "metadata": {},
   "outputs": [
    {
     "name": "stdout",
     "output_type": "stream",
     "text": [
      "Hola. Mi nombre es \u001b[31mUlises [PERSON]\u001b[0m, mi número de teléfono es \u001b[34m+34654321098 [PHONE_NUMBER]\u001b[0m. Nací en \u001b[31mSantiago de Compostela [LOCATION]\u001b[0m, \u001b[32mGalicia [LOCATION]\u001b[0m el \u001b[33m23/11/2000 [DATE_TIME]\u001b[0m. El día de ayer comí patatas. Puedes preguntarme en \u001b[34mulises@inetum.com [EMAIL_ADDRESS]\u001b[0m\u001b[35minetum.com [URL collision]\u001b[0m. IBAN de ejemplo \u001b[33mES6830042979106774153973 [IBAN_CODE]\u001b[0m.\n"
     ]
    }
   ],
   "source": [
    "from termcolor import colored\n",
    "import random\n",
    "\n",
    "def rand_col(text):\n",
    "    return colored(text, color=random.choice(['red', 'green', 'yellow', 'blue', 'magenta']))\n",
    "\n",
    "from copy import deepcopy\n",
    "results_sorted = deepcopy(results)\n",
    "results_sorted.sort(key=lambda x: x.start)\n",
    "\n",
    "current_idx = 0\n",
    "for current_entity in results_sorted:\n",
    "#     print(rand_col(current_idx), end='\\n')\n",
    "    if current_idx <= current_entity.start:\n",
    "        print(example_text[current_idx: current_entity.start], end='')\n",
    "        print(rand_col(example_text[current_entity.start: current_entity.end] + f' [{current_entity.entity_type}]'), end='')\n",
    "    else:\n",
    "        print(rand_col(example_text[current_entity.start: current_entity.end] + f' [{current_entity.entity_type} collision]'), end='')\n",
    "    \n",
    "    current_idx = current_entity.end\n",
    "    \n",
    "print(example_text[current_idx: ])"
   ]
  },
  {
   "cell_type": "markdown",
   "id": "35df4bc4",
   "metadata": {},
   "source": [
    "### Anonimization"
   ]
  },
  {
   "cell_type": "markdown",
   "id": "dacf705e",
   "metadata": {},
   "source": [
    "Now we import the anonymizer and anonymize the text."
   ]
  },
  {
   "cell_type": "code",
   "execution_count": 5,
   "id": "fc7fed7f",
   "metadata": {},
   "outputs": [],
   "source": [
    "from presidio_anonymizer import AnonymizerEngine\n",
    "\n",
    "anonymizer = AnonymizerEngine()"
   ]
  },
  {
   "cell_type": "code",
   "execution_count": 6,
   "id": "fdd3a1c1",
   "metadata": {},
   "outputs": [
    {
     "name": "stdout",
     "output_type": "stream",
     "text": [
      "Hola. Mi nombre es <PERSON>, mi número de teléfono es <PHONE_NUMBER>. Nací en <LOCATION>, <LOCATION> el <DATE_TIME>. El día de ayer comí patatas. Puedes preguntarme en <EMAIL_ADDRESS>. IBAN de ejemplo <IBAN_CODE>.\n"
     ]
    }
   ],
   "source": [
    "anonymized_text = anonymizer.anonymize(text=example_text, analyzer_results=results).text\n",
    "\n",
    "print(anonymized_text)"
   ]
  },
  {
   "cell_type": "markdown",
   "id": "860db0c3",
   "metadata": {},
   "source": [
    "We can play with the anonymizer parameters to alter the text."
   ]
  },
  {
   "cell_type": "code",
   "execution_count": 7,
   "id": "08d3e968",
   "metadata": {},
   "outputs": [
    {
     "name": "stdout",
     "output_type": "stream",
     "text": [
      "Hola. Mi nombre es REPLACED_NAME, mi número de teléfono es . Nací en Santiago de **********, ******* el . El día de ayer comí patatas. Puedes preguntarme en . IBAN de ejemplo .\n"
     ]
    }
   ],
   "source": [
    "from presidio_anonymizer.entities.engine import OperatorConfig\n",
    "\n",
    "operators={\"PERSON\": OperatorConfig(operator_name=\"replace\", \n",
    "                                    params={\"new_value\": \"REPLACED_NAME\"}),\n",
    "           \"LOCATION\": OperatorConfig(operator_name=\"mask\", \n",
    "                                      params={'chars_to_mask': 10, \n",
    "                                              'masking_char': '*',\n",
    "                                              'from_end': True}),\n",
    "           \"DEFAULT\": OperatorConfig(operator_name=\"redact\")}\n",
    "\n",
    "anonymized_text = anonymizer.anonymize(text=example_text, \n",
    "                                       analyzer_results=results,\n",
    "                                       operators=operators).text\n",
    "\n",
    "print(anonymized_text)"
   ]
  },
  {
   "cell_type": "code",
   "execution_count": 8,
   "id": "264dca29",
   "metadata": {},
   "outputs": [
    {
     "name": "stdout",
     "output_type": "stream",
     "text": [
      "Hola. Mi nombre es Rodrigo, mi número de teléfono es X. Nací en X, X el X. El día de ayer comí patatas. Puedes preguntarme en X. IBAN de ejemplo X.\n"
     ]
    }
   ],
   "source": [
    "operators={\"PERSON\": OperatorConfig(operator_name=\"custom\", \n",
    "                                    params={\"lambda\": lambda x: random.choice(['Juan', 'Rodrigo'])}),\n",
    "           \"DEFAULT\": OperatorConfig(operator_name=\"custom\", params={\"lambda\": lambda x: 'X'})}\n",
    "\n",
    "anonymized_text = anonymizer.anonymize(text=example_text, \n",
    "                                       analyzer_results=results,\n",
    "                                       operators=operators).text\n",
    "\n",
    "print(anonymized_text)"
   ]
  },
  {
   "cell_type": "markdown",
   "id": "fdb55090",
   "metadata": {},
   "source": [
    "### Faker"
   ]
  },
  {
   "cell_type": "markdown",
   "id": "cdefdc8e",
   "metadata": {},
   "source": [
    "Creating fake data to avoid loosing context."
   ]
  },
  {
   "cell_type": "code",
   "execution_count": 9,
   "id": "9dde77d6",
   "metadata": {},
   "outputs": [
    {
     "name": "stdout",
     "output_type": "stream",
     "text": [
      "random name: Nando Juanito Guerra Dalmau\n",
      "random address: Rambla de Ciriaco Ribera 4 Puerta 5 \n",
      "Málaga, 32907\n",
      "random phone number: +34 710 25 18 63\n"
     ]
    }
   ],
   "source": [
    "from faker import Faker\n",
    "fake = Faker(locale=['es_ES'])\n",
    "\n",
    "print('random name:', fake.name())\n",
    "print('random address:', fake.address())\n",
    "print('random phone number:', fake.phone_number())"
   ]
  },
  {
   "cell_type": "markdown",
   "id": "a70a424d",
   "metadata": {},
   "source": [
    "Funtion for faking data"
   ]
  },
  {
   "cell_type": "code",
   "execution_count": 10,
   "id": "615c18e6",
   "metadata": {},
   "outputs": [],
   "source": [
    "fake_operators = {\n",
    "    \"PERSON\": OperatorConfig(\"custom\", {\"lambda\": lambda x: fake.name()}),\n",
    "    \"PHONE_NUMBER\": OperatorConfig(\"custom\", {\"lambda\": lambda x: fake.phone_number()}),\n",
    "    \"EMAIL_ADDRESS\": OperatorConfig(\"custom\", {\"lambda\": lambda x: fake.email()}),\n",
    "    \"LOCATION\": OperatorConfig(\"replace\", {\"new_value\": \"España\"}),\n",
    "    \"DATE_TIME\": OperatorConfig(\"custom\", {\"lambda\": lambda x: fake.date()}),\n",
    "    \"DEFAULT\": OperatorConfig(operator_name=\"mask\", \n",
    "                              params={'chars_to_mask': 20, \n",
    "                                      'masking_char': '*',\n",
    "                                      'from_end': False}),\n",
    "}"
   ]
  },
  {
   "cell_type": "code",
   "execution_count": 11,
   "id": "dacd1b91",
   "metadata": {},
   "outputs": [
    {
     "name": "stdout",
     "output_type": "stream",
     "text": [
      "Hola. Mi nombre es Elodia Hernando-Company, mi número de teléfono es +34601792713. Nací en España, España el 1984-11-14. El día de ayer comí patatas. Puedes preguntarme en pavoneloy@example.org. IBAN de ejemplo ********************3973.\n"
     ]
    }
   ],
   "source": [
    "anonymized_text = anonymizer.anonymize(text=example_text,\n",
    "                                       analyzer_results=results,\n",
    "                                       operators=fake_operators\n",
    "                                       ).text\n",
    "print(anonymized_text)"
   ]
  },
  {
   "cell_type": "markdown",
   "id": "eedb4367",
   "metadata": {},
   "source": [
    "## Dataset example"
   ]
  },
  {
   "cell_type": "code",
   "execution_count": 12,
   "id": "fda9b724",
   "metadata": {},
   "outputs": [],
   "source": [
    "import pandas as pd\n",
    "\n",
    "configuration = {\n",
    "    \"nlp_engine_name\": \"spacy\",\n",
    "    \"models\": [{\"lang_code\": \"en\", \"model_name\": \"en_core_web_md\"}],\n",
    "}\n",
    "\n",
    "provider = NlpEngineProvider(nlp_configuration=configuration)\n",
    "nlp_engine = provider.create_engine()"
   ]
  },
  {
   "cell_type": "code",
   "execution_count": 13,
   "id": "9e5b6e18",
   "metadata": {},
   "outputs": [],
   "source": [
    "fake = Faker(locale=['en_US', 'en_GB', 'en_CA', 'fr_FR'])\n",
    "fake_operators = {\n",
    "    \"PERSON\": OperatorConfig(\"custom\", {\"lambda\": lambda x: fake.name()}),\n",
    "    \"PHONE_NUMBER\": OperatorConfig(\"custom\", {\"lambda\": lambda x: fake.phone_number()}),\n",
    "    \"EMAIL_ADDRESS\": OperatorConfig(\"custom\", {\"lambda\": lambda x: fake.email()}),\n",
    "    \"LOCATION\": OperatorConfig(\"replace\", {\"new_value\": \"USA\"}),\n",
    "    \"DEFAULT\": OperatorConfig(operator_name=\"replace\"),\n",
    "}"
   ]
  },
  {
   "cell_type": "code",
   "execution_count": 14,
   "id": "3bffd441",
   "metadata": {},
   "outputs": [],
   "source": [
    "# Set up the engines\n",
    "analyzer = AnalyzerEngine(nlp_engine=nlp_engine,\n",
    "                          supported_languages=[\"en\"])\n",
    "anonymizer = AnonymizerEngine()\n",
    "\n",
    "\n",
    "def anonymize_text(text: str) -> str:\n",
    "    # Call analyzer to get results\n",
    "    results = analyzer.analyze(text=text,\n",
    "                               language='en')\n",
    "\n",
    "    # Analyzer results are passed to the AnonymizerEngine for anonymization\n",
    "    anonymized_text = anonymizer.anonymize(text=text,\n",
    "                                           analyzer_results=results,\n",
    "                                           operators=fake_operators)\n",
    "    return anonymized_text.text\n",
    "\n",
    "\n",
    "def anonymize_series(s: pd.Series) -> pd.Series:\n",
    "    return s.apply(anonymize_text)"
   ]
  },
  {
   "cell_type": "code",
   "execution_count": 15,
   "id": "357e2e01",
   "metadata": {
    "scrolled": false
   },
   "outputs": [
    {
     "data": {
      "text/html": [
       "<div>\n",
       "<style scoped>\n",
       "    .dataframe tbody tr th:only-of-type {\n",
       "        vertical-align: middle;\n",
       "    }\n",
       "\n",
       "    .dataframe tbody tr th {\n",
       "        vertical-align: top;\n",
       "    }\n",
       "\n",
       "    .dataframe thead th {\n",
       "        text-align: right;\n",
       "    }\n",
       "</style>\n",
       "<table border=\"1\" class=\"dataframe\">\n",
       "  <thead>\n",
       "    <tr style=\"text-align: right;\">\n",
       "      <th></th>\n",
       "      <th>Id</th>\n",
       "      <th>DocNumber</th>\n",
       "      <th>MetadataSubject</th>\n",
       "      <th>MetadataTo</th>\n",
       "      <th>MetadataFrom</th>\n",
       "      <th>SenderPersonId</th>\n",
       "      <th>MetadataDateSent</th>\n",
       "      <th>MetadataDateReleased</th>\n",
       "      <th>MetadataPdfLink</th>\n",
       "      <th>MetadataCaseNumber</th>\n",
       "      <th>...</th>\n",
       "      <th>ExtractedTo</th>\n",
       "      <th>ExtractedFrom</th>\n",
       "      <th>ExtractedCc</th>\n",
       "      <th>ExtractedDateSent</th>\n",
       "      <th>ExtractedCaseNumber</th>\n",
       "      <th>ExtractedDocNumber</th>\n",
       "      <th>ExtractedDateReleased</th>\n",
       "      <th>ExtractedReleaseInPartOrFull</th>\n",
       "      <th>ExtractedBodyText</th>\n",
       "      <th>RawText</th>\n",
       "    </tr>\n",
       "  </thead>\n",
       "  <tbody>\n",
       "    <tr>\n",
       "      <th>0</th>\n",
       "      <td>1</td>\n",
       "      <td>C05739545</td>\n",
       "      <td>WOW</td>\n",
       "      <td>H</td>\n",
       "      <td>Sullivan, Jacob J</td>\n",
       "      <td>87.0</td>\n",
       "      <td>2012-09-12T04:00:00+00:00</td>\n",
       "      <td>2015-05-22T04:00:00+00:00</td>\n",
       "      <td>DOCUMENTS/HRC_Email_1_296/HRCH2/DOC_0C05739545...</td>\n",
       "      <td>F-2015-04841</td>\n",
       "      <td>...</td>\n",
       "      <td>NaN</td>\n",
       "      <td>Sullivan, Jacob J &lt;Sullivan11@state.gov&gt;</td>\n",
       "      <td>NaN</td>\n",
       "      <td>Wednesday, September 12, 2012 10:16 AM</td>\n",
       "      <td>F-2015-04841</td>\n",
       "      <td>C05739545</td>\n",
       "      <td>05/13/2015</td>\n",
       "      <td>RELEASE IN FULL</td>\n",
       "      <td>NaN</td>\n",
       "      <td>UNCLASSIFIED\\nU.S. Department of State\\nCase N...</td>\n",
       "    </tr>\n",
       "    <tr>\n",
       "      <th>1</th>\n",
       "      <td>2</td>\n",
       "      <td>C05739546</td>\n",
       "      <td>H: LATEST: HOW SYRIA IS AIDING QADDAFI AND MOR...</td>\n",
       "      <td>H</td>\n",
       "      <td>NaN</td>\n",
       "      <td>NaN</td>\n",
       "      <td>2011-03-03T05:00:00+00:00</td>\n",
       "      <td>2015-05-22T04:00:00+00:00</td>\n",
       "      <td>DOCUMENTS/HRC_Email_1_296/HRCH1/DOC_0C05739546...</td>\n",
       "      <td>F-2015-04841</td>\n",
       "      <td>...</td>\n",
       "      <td>NaN</td>\n",
       "      <td>NaN</td>\n",
       "      <td>NaN</td>\n",
       "      <td>NaN</td>\n",
       "      <td>F-2015-04841</td>\n",
       "      <td>C05739546</td>\n",
       "      <td>05/13/2015</td>\n",
       "      <td>RELEASE IN PART</td>\n",
       "      <td>B6\\nThursday, March 3, 2011 9:45 PM\\nH: Latest...</td>\n",
       "      <td>UNCLASSIFIED\\nU.S. Department of State\\nCase N...</td>\n",
       "    </tr>\n",
       "    <tr>\n",
       "      <th>2</th>\n",
       "      <td>3</td>\n",
       "      <td>C05739547</td>\n",
       "      <td>CHRIS STEVENS</td>\n",
       "      <td>;H</td>\n",
       "      <td>Mills, Cheryl D</td>\n",
       "      <td>32.0</td>\n",
       "      <td>2012-09-12T04:00:00+00:00</td>\n",
       "      <td>2015-05-22T04:00:00+00:00</td>\n",
       "      <td>DOCUMENTS/HRC_Email_1_296/HRCH2/DOC_0C05739547...</td>\n",
       "      <td>F-2015-04841</td>\n",
       "      <td>...</td>\n",
       "      <td>B6</td>\n",
       "      <td>Mills, Cheryl D &lt;MillsCD@state.gov&gt;</td>\n",
       "      <td>Abedin, Huma</td>\n",
       "      <td>Wednesday, September 12, 2012 11:52 AM</td>\n",
       "      <td>F-2015-04841</td>\n",
       "      <td>C05739547</td>\n",
       "      <td>05/14/2015</td>\n",
       "      <td>RELEASE IN PART</td>\n",
       "      <td>Thx</td>\n",
       "      <td>UNCLASSIFIED\\nU.S. Department of State\\nCase N...</td>\n",
       "    </tr>\n",
       "    <tr>\n",
       "      <th>3</th>\n",
       "      <td>4</td>\n",
       "      <td>C05739550</td>\n",
       "      <td>CAIRO CONDEMNATION - FINAL</td>\n",
       "      <td>H</td>\n",
       "      <td>Mills, Cheryl D</td>\n",
       "      <td>32.0</td>\n",
       "      <td>2012-09-12T04:00:00+00:00</td>\n",
       "      <td>2015-05-22T04:00:00+00:00</td>\n",
       "      <td>DOCUMENTS/HRC_Email_1_296/HRCH2/DOC_0C05739550...</td>\n",
       "      <td>F-2015-04841</td>\n",
       "      <td>...</td>\n",
       "      <td>NaN</td>\n",
       "      <td>Mills, Cheryl D &lt;MillsCD@state.gov&gt;</td>\n",
       "      <td>Mitchell, Andrew B</td>\n",
       "      <td>Wednesday, September 12,2012 12:44 PM</td>\n",
       "      <td>F-2015-04841</td>\n",
       "      <td>C05739550</td>\n",
       "      <td>05/13/2015</td>\n",
       "      <td>RELEASE IN PART</td>\n",
       "      <td>NaN</td>\n",
       "      <td>UNCLASSIFIED\\nU.S. Department of State\\nCase N...</td>\n",
       "    </tr>\n",
       "    <tr>\n",
       "      <th>4</th>\n",
       "      <td>5</td>\n",
       "      <td>C05739554</td>\n",
       "      <td>H: LATEST: HOW SYRIA IS AIDING QADDAFI AND MOR...</td>\n",
       "      <td>Abedin, Huma</td>\n",
       "      <td>H</td>\n",
       "      <td>80.0</td>\n",
       "      <td>2011-03-11T05:00:00+00:00</td>\n",
       "      <td>2015-05-22T04:00:00+00:00</td>\n",
       "      <td>DOCUMENTS/HRC_Email_1_296/HRCH1/DOC_0C05739554...</td>\n",
       "      <td>F-2015-04841</td>\n",
       "      <td>...</td>\n",
       "      <td>NaN</td>\n",
       "      <td>NaN</td>\n",
       "      <td>NaN</td>\n",
       "      <td>NaN</td>\n",
       "      <td>F-2015-04841</td>\n",
       "      <td>C05739554</td>\n",
       "      <td>05/13/2015</td>\n",
       "      <td>RELEASE IN PART</td>\n",
       "      <td>H &lt;hrod17@clintonemail.com&gt;\\nFriday, March 11,...</td>\n",
       "      <td>B6\\nUNCLASSIFIED\\nU.S. Department of State\\nCa...</td>\n",
       "    </tr>\n",
       "  </tbody>\n",
       "</table>\n",
       "<p>5 rows × 22 columns</p>\n",
       "</div>"
      ],
      "text/plain": [
       "   Id  DocNumber                                    MetadataSubject  \\\n",
       "0   1  C05739545                                                WOW   \n",
       "1   2  C05739546  H: LATEST: HOW SYRIA IS AIDING QADDAFI AND MOR...   \n",
       "2   3  C05739547                                      CHRIS STEVENS   \n",
       "3   4  C05739550                         CAIRO CONDEMNATION - FINAL   \n",
       "4   5  C05739554  H: LATEST: HOW SYRIA IS AIDING QADDAFI AND MOR...   \n",
       "\n",
       "     MetadataTo       MetadataFrom  SenderPersonId           MetadataDateSent  \\\n",
       "0             H  Sullivan, Jacob J            87.0  2012-09-12T04:00:00+00:00   \n",
       "1             H                NaN             NaN  2011-03-03T05:00:00+00:00   \n",
       "2            ;H    Mills, Cheryl D            32.0  2012-09-12T04:00:00+00:00   \n",
       "3             H    Mills, Cheryl D            32.0  2012-09-12T04:00:00+00:00   \n",
       "4  Abedin, Huma                  H            80.0  2011-03-11T05:00:00+00:00   \n",
       "\n",
       "        MetadataDateReleased  \\\n",
       "0  2015-05-22T04:00:00+00:00   \n",
       "1  2015-05-22T04:00:00+00:00   \n",
       "2  2015-05-22T04:00:00+00:00   \n",
       "3  2015-05-22T04:00:00+00:00   \n",
       "4  2015-05-22T04:00:00+00:00   \n",
       "\n",
       "                                     MetadataPdfLink MetadataCaseNumber  ...  \\\n",
       "0  DOCUMENTS/HRC_Email_1_296/HRCH2/DOC_0C05739545...       F-2015-04841  ...   \n",
       "1  DOCUMENTS/HRC_Email_1_296/HRCH1/DOC_0C05739546...       F-2015-04841  ...   \n",
       "2  DOCUMENTS/HRC_Email_1_296/HRCH2/DOC_0C05739547...       F-2015-04841  ...   \n",
       "3  DOCUMENTS/HRC_Email_1_296/HRCH2/DOC_0C05739550...       F-2015-04841  ...   \n",
       "4  DOCUMENTS/HRC_Email_1_296/HRCH1/DOC_0C05739554...       F-2015-04841  ...   \n",
       "\n",
       "  ExtractedTo                             ExtractedFrom         ExtractedCc  \\\n",
       "0         NaN  Sullivan, Jacob J <Sullivan11@state.gov>                 NaN   \n",
       "1         NaN                                       NaN                 NaN   \n",
       "2          B6       Mills, Cheryl D <MillsCD@state.gov>        Abedin, Huma   \n",
       "3         NaN       Mills, Cheryl D <MillsCD@state.gov>  Mitchell, Andrew B   \n",
       "4         NaN                                       NaN                 NaN   \n",
       "\n",
       "                        ExtractedDateSent ExtractedCaseNumber  \\\n",
       "0  Wednesday, September 12, 2012 10:16 AM        F-2015-04841   \n",
       "1                                     NaN        F-2015-04841   \n",
       "2  Wednesday, September 12, 2012 11:52 AM        F-2015-04841   \n",
       "3   Wednesday, September 12,2012 12:44 PM        F-2015-04841   \n",
       "4                                     NaN        F-2015-04841   \n",
       "\n",
       "  ExtractedDocNumber ExtractedDateReleased ExtractedReleaseInPartOrFull  \\\n",
       "0          C05739545            05/13/2015              RELEASE IN FULL   \n",
       "1          C05739546            05/13/2015              RELEASE IN PART   \n",
       "2          C05739547            05/14/2015              RELEASE IN PART   \n",
       "3          C05739550            05/13/2015              RELEASE IN PART   \n",
       "4          C05739554            05/13/2015              RELEASE IN PART   \n",
       "\n",
       "                                   ExtractedBodyText  \\\n",
       "0                                                NaN   \n",
       "1  B6\\nThursday, March 3, 2011 9:45 PM\\nH: Latest...   \n",
       "2                                                Thx   \n",
       "3                                                NaN   \n",
       "4  H <hrod17@clintonemail.com>\\nFriday, March 11,...   \n",
       "\n",
       "                                             RawText  \n",
       "0  UNCLASSIFIED\\nU.S. Department of State\\nCase N...  \n",
       "1  UNCLASSIFIED\\nU.S. Department of State\\nCase N...  \n",
       "2  UNCLASSIFIED\\nU.S. Department of State\\nCase N...  \n",
       "3  UNCLASSIFIED\\nU.S. Department of State\\nCase N...  \n",
       "4  B6\\nUNCLASSIFIED\\nU.S. Department of State\\nCa...  \n",
       "\n",
       "[5 rows x 22 columns]"
      ]
     },
     "execution_count": 15,
     "metadata": {},
     "output_type": "execute_result"
    }
   ],
   "source": [
    "df = pd.read_csv('data/Emails.csv')\n",
    "df.head()"
   ]
  },
  {
   "cell_type": "code",
   "execution_count": 16,
   "id": "2324bcab",
   "metadata": {},
   "outputs": [
    {
     "data": {
      "text/plain": [
       "(7945, 22)"
      ]
     },
     "execution_count": 16,
     "metadata": {},
     "output_type": "execute_result"
    }
   ],
   "source": [
    "df.shape"
   ]
  },
  {
   "cell_type": "code",
   "execution_count": 17,
   "id": "43f1083e",
   "metadata": {},
   "outputs": [],
   "source": [
    "df.drop(df.tail(5000).index, inplace=True)\n",
    "df = df[df['ExtractedBodyText'].notna()]\n",
    "\n",
    "df['anonymized_text'] = anonymize_series(df['ExtractedBodyText'])"
   ]
  },
  {
   "cell_type": "code",
   "execution_count": 18,
   "id": "813c29b7",
   "metadata": {},
   "outputs": [
    {
     "data": {
      "text/html": [
       "<div>\n",
       "<style scoped>\n",
       "    .dataframe tbody tr th:only-of-type {\n",
       "        vertical-align: middle;\n",
       "    }\n",
       "\n",
       "    .dataframe tbody tr th {\n",
       "        vertical-align: top;\n",
       "    }\n",
       "\n",
       "    .dataframe thead th {\n",
       "        text-align: right;\n",
       "    }\n",
       "</style>\n",
       "<table border=\"1\" class=\"dataframe\">\n",
       "  <thead>\n",
       "    <tr style=\"text-align: right;\">\n",
       "      <th></th>\n",
       "      <th>ExtractedBodyText</th>\n",
       "      <th>anonymized_text</th>\n",
       "    </tr>\n",
       "  </thead>\n",
       "  <tbody>\n",
       "    <tr>\n",
       "      <th>1</th>\n",
       "      <td>B6\\nThursday, March 3, 2011 9:45 PM\\nH: Latest How Syria is aiding Qaddafi and more... Sid\\nhrc memo syria aiding libya 030311.docx; hrc memo syria aiding libya 030311.docx\\nMarch 3, 2011\\nFor: Hillary</td>\n",
       "      <td>&lt;US_DRIVER_LICENSE&gt;\\n&lt;DATE_TIME&gt; &lt;DATE_TIME&gt;\\nH: Latest How USA is aiding USA and more... Sid\\nBrian Howard memo USA aiding USA &lt;URL&gt;cx; Robert Williamson memo USA aiding USA &lt;DATE_TIME&gt;For: Dr Gemma Webb</td>\n",
       "    </tr>\n",
       "    <tr>\n",
       "      <th>2</th>\n",
       "      <td>Thx</td>\n",
       "      <td>Thx</td>\n",
       "    </tr>\n",
       "    <tr>\n",
       "      <th>4</th>\n",
       "      <td>H &lt;hrod17@clintonemail.com&gt;\\nFriday, March 11, 2011 1:36 PM\\nHuma Abedin\\nFw: H: Latest: How Syria is aiding Qaddafi and more... Sid\\nhrc memo syria aiding libya 030311.docx\\nPis print.</td>\n",
       "      <td>H &lt;rmcdonald@example.net&gt;\\n&lt;DATE_TIME&gt; &lt;DATE_TIME&gt;\\nGregory Walsh\\nFw: H: Latest: How USA is aiding USA and more... Sid\\nMichael Butler memo USA aiding USA &lt;URL&gt;cx\\nPis print.</td>\n",
       "    </tr>\n",
       "    <tr>\n",
       "      <th>5</th>\n",
       "      <td>Pis print.\\n-•-...-^\\nH &lt; hrod17@clintonernailcom&gt;\\nWednesday, September 12, 2012 2:11 PM\\n°Russorv@state.gov'\\nFw: Meet The Right-Wing Extremist Behind Anti-fvluslim Film That Sparked Deadly Riots\\nFrom [meat)\\nSent: Wednesday, September 12, 2012 01:00 PM\\nTo: 11\\nSubject: Meet The Right Wing E...</td>\n",
       "      <td>Debra Vance print.\\n-•-...-^\\nH &lt; hrod17@clintonernailcom&gt;\\n&lt;DATE_TIME&gt; &lt;DATE_TIME&gt;\\n°jessicamorris@example.org'\\nFw: Meet The Right-Wing Extremist Behind Anti-fvluslim Film That Sparked Deadly Riots\\nFrom [meat)\\nSent: &lt;DATE_TIME&gt; &lt;DATE_TIME&gt;\\nTo: 11\\nSubject: Meet The Right Wing Extremist Behi...</td>\n",
       "    </tr>\n",
       "    <tr>\n",
       "      <th>7</th>\n",
       "      <td>H &lt;hrod17@clintonemail.corn&gt;\\nFriday, March 11, 2011 1:36 PM\\nHuma Abedin\\nFw: H: Latest: How Syria is aiding Qaddafi and more... Sid\\nhrc memo Syria aiding libya 030311.docx\\nPis print.</td>\n",
       "      <td>H &lt;hrod17@&lt;URL&gt;rn&gt;\\n&lt;DATE_TIME&gt; &lt;DATE_TIME&gt;\\nCamille Morvan\\nFw: H: Latest: How USA is aiding USA and more... Sid\\nBenjamin Lebon memo USA aiding USA &lt;URL&gt;cx\\nPis print.</td>\n",
       "    </tr>\n",
       "    <tr>\n",
       "      <th>...</th>\n",
       "      <td>...</td>\n",
       "      <td>...</td>\n",
       "    </tr>\n",
       "    <tr>\n",
       "      <th>2939</th>\n",
       "      <td>FYI</td>\n",
       "      <td>FYI</td>\n",
       "    </tr>\n",
       "    <tr>\n",
       "      <th>2940</th>\n",
       "      <td>I will be out of the office until Tuesday, October 13 with limited access to e-mail. If you need immediate assistance,\\nplease contact Pat Grimes at 202-647-9022.\\nAndrew J. Shapiro\\nAssistant Secretary for Political-Military Affairs Department of State\\n2201 C Street, NW\\nWashington, DC 20520</td>\n",
       "      <td>I will be out of the office until &lt;DATE_TIME&gt; with limited access to e-mail. If you need immediate assistance,\\nplease contact Joseph Cole at +44151 4960223.\\nParker Richard\\nAssistant Secretary for Political-Military Affairs Department of State\\n2201 C Street, NW\\nUSA, USA 20520</td>\n",
       "    </tr>\n",
       "    <tr>\n",
       "      <th>2942</th>\n",
       "      <td>sorry - just seeing b/c on my but have logged a call to him.\\nOn Sat, Oct 9, 2010 at 7:18 AM, H &lt;HDR22@clintonemail.com&gt; wrote:\\nCould you try to contact Mark Penn to confirm he no longer represents Thaksin before I call Thai PM at 9:30?\\nThx.</td>\n",
       "      <td>sorry - just seeing b/c on my but have logged a call to him.\\nOn Sat, &lt;DATE_TIME&gt; at &lt;DATE_TIME&gt;, H &lt;christinedias@example.org&gt; wrote:\\nCould you try to contact William Howe to confirm he no longer represents USA before I call Thai PM at &lt;DATE_TIME&gt;?\\nThx.</td>\n",
       "    </tr>\n",
       "    <tr>\n",
       "      <th>2943</th>\n",
       "      <td>fyi</td>\n",
       "      <td>fyi</td>\n",
       "    </tr>\n",
       "    <tr>\n",
       "      <th>2944</th>\n",
       "      <td>Thanks Madame Secretary -- we are working this on Jim's schedule currently I believe but the Admiral really wants you\\nto do this. We certainly want more attention to the still very tentative military dialogue between US and PRC and\\nAdmiral Owens is very much engaged on this. It's your call but...</td>\n",
       "      <td>Thanks Madame Secretary -- we are working this on Lindsey Williams's schedule currently I believe but the Admiral really wants you\\nto do this. We certainly want more attention to the still very tentative military dialogue between USA and USA and\\nAdmiral Élodie Guilbert-Lebrun is very much enga...</td>\n",
       "    </tr>\n",
       "  </tbody>\n",
       "</table>\n",
       "<p>2651 rows × 2 columns</p>\n",
       "</div>"
      ],
      "text/plain": [
       "                                                                                                                                                                                                                                                                                                ExtractedBodyText  \\\n",
       "1                                                                                                       B6\\nThursday, March 3, 2011 9:45 PM\\nH: Latest How Syria is aiding Qaddafi and more... Sid\\nhrc memo syria aiding libya 030311.docx; hrc memo syria aiding libya 030311.docx\\nMarch 3, 2011\\nFor: Hillary   \n",
       "2                                                                                                                                                                                                                                                                                                             Thx   \n",
       "4                                                                                                                       H <hrod17@clintonemail.com>\\nFriday, March 11, 2011 1:36 PM\\nHuma Abedin\\nFw: H: Latest: How Syria is aiding Qaddafi and more... Sid\\nhrc memo syria aiding libya 030311.docx\\nPis print.   \n",
       "5     Pis print.\\n-•-...-^\\nH < hrod17@clintonernailcom>\\nWednesday, September 12, 2012 2:11 PM\\n°Russorv@state.gov'\\nFw: Meet The Right-Wing Extremist Behind Anti-fvluslim Film That Sparked Deadly Riots\\nFrom [meat)\\nSent: Wednesday, September 12, 2012 01:00 PM\\nTo: 11\\nSubject: Meet The Right Wing E...   \n",
       "7                                                                                                                      H <hrod17@clintonemail.corn>\\nFriday, March 11, 2011 1:36 PM\\nHuma Abedin\\nFw: H: Latest: How Syria is aiding Qaddafi and more... Sid\\nhrc memo Syria aiding libya 030311.docx\\nPis print.   \n",
       "...                                                                                                                                                                                                                                                                                                           ...   \n",
       "2939                                                                                                                                                                                                                                                                                                          FYI   \n",
       "2940       I will be out of the office until Tuesday, October 13 with limited access to e-mail. If you need immediate assistance,\\nplease contact Pat Grimes at 202-647-9022.\\nAndrew J. Shapiro\\nAssistant Secretary for Political-Military Affairs Department of State\\n2201 C Street, NW\\nWashington, DC 20520   \n",
       "2942                                                          sorry - just seeing b/c on my but have logged a call to him.\\nOn Sat, Oct 9, 2010 at 7:18 AM, H <HDR22@clintonemail.com> wrote:\\nCould you try to contact Mark Penn to confirm he no longer represents Thaksin before I call Thai PM at 9:30?\\nThx.   \n",
       "2943                                                                                                                                                                                                                                                                                                          fyi   \n",
       "2944  Thanks Madame Secretary -- we are working this on Jim's schedule currently I believe but the Admiral really wants you\\nto do this. We certainly want more attention to the still very tentative military dialogue between US and PRC and\\nAdmiral Owens is very much engaged on this. It's your call but...   \n",
       "\n",
       "                                                                                                                                                                                                                                                                                                  anonymized_text  \n",
       "1                                                                                                    <US_DRIVER_LICENSE>\\n<DATE_TIME> <DATE_TIME>\\nH: Latest How USA is aiding USA and more... Sid\\nBrian Howard memo USA aiding USA <URL>cx; Robert Williamson memo USA aiding USA <DATE_TIME>For: Dr Gemma Webb  \n",
       "2                                                                                                                                                                                                                                                                                                             Thx  \n",
       "4                                                                                                                                 H <rmcdonald@example.net>\\n<DATE_TIME> <DATE_TIME>\\nGregory Walsh\\nFw: H: Latest: How USA is aiding USA and more... Sid\\nMichael Butler memo USA aiding USA <URL>cx\\nPis print.  \n",
       "5     Debra Vance print.\\n-•-...-^\\nH < hrod17@clintonernailcom>\\n<DATE_TIME> <DATE_TIME>\\n°jessicamorris@example.org'\\nFw: Meet The Right-Wing Extremist Behind Anti-fvluslim Film That Sparked Deadly Riots\\nFrom [meat)\\nSent: <DATE_TIME> <DATE_TIME>\\nTo: 11\\nSubject: Meet The Right Wing Extremist Behi...  \n",
       "7                                                                                                                                       H <hrod17@<URL>rn>\\n<DATE_TIME> <DATE_TIME>\\nCamille Morvan\\nFw: H: Latest: How USA is aiding USA and more... Sid\\nBenjamin Lebon memo USA aiding USA <URL>cx\\nPis print.  \n",
       "...                                                                                                                                                                                                                                                                                                           ...  \n",
       "2939                                                                                                                                                                                                                                                                                                          FYI  \n",
       "2940                     I will be out of the office until <DATE_TIME> with limited access to e-mail. If you need immediate assistance,\\nplease contact Joseph Cole at +44151 4960223.\\nParker Richard\\nAssistant Secretary for Political-Military Affairs Department of State\\n2201 C Street, NW\\nUSA, USA 20520  \n",
       "2942                                             sorry - just seeing b/c on my but have logged a call to him.\\nOn Sat, <DATE_TIME> at <DATE_TIME>, H <christinedias@example.org> wrote:\\nCould you try to contact William Howe to confirm he no longer represents USA before I call Thai PM at <DATE_TIME>?\\nThx.  \n",
       "2943                                                                                                                                                                                                                                                                                                          fyi  \n",
       "2944  Thanks Madame Secretary -- we are working this on Lindsey Williams's schedule currently I believe but the Admiral really wants you\\nto do this. We certainly want more attention to the still very tentative military dialogue between USA and USA and\\nAdmiral Élodie Guilbert-Lebrun is very much enga...  \n",
       "\n",
       "[2651 rows x 2 columns]"
      ]
     },
     "execution_count": 18,
     "metadata": {},
     "output_type": "execute_result"
    }
   ],
   "source": [
    "pd.set_option('max_colwidth', 300)\n",
    "df[['ExtractedBodyText', 'anonymized_text']]"
   ]
  },
  {
   "cell_type": "markdown",
   "id": "67417ec3",
   "metadata": {},
   "source": [
    "## References"
   ]
  },
  {
   "cell_type": "markdown",
   "id": "e9e99fc7",
   "metadata": {},
   "source": [
    "https://medium.com/@olegolego1997/text-anonymization-with-presidio-and-faker-be251f36d5bf\n",
    "\n",
    "https://spacy.io/usage/models"
   ]
  }
 ],
 "metadata": {
  "kernelspec": {
   "display_name": "Python 3 (ipykernel)",
   "language": "python",
   "name": "python3"
  },
  "language_info": {
   "codemirror_mode": {
    "name": "ipython",
    "version": 3
   },
   "file_extension": ".py",
   "mimetype": "text/x-python",
   "name": "python",
   "nbconvert_exporter": "python",
   "pygments_lexer": "ipython3",
   "version": "3.9.7"
  }
 },
 "nbformat": 4,
 "nbformat_minor": 5
}
